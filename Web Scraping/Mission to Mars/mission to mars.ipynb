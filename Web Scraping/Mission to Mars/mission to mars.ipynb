{
 "metadata": {
  "language_info": {
   "codemirror_mode": {
    "name": "ipython",
    "version": 3
   },
   "file_extension": ".py",
   "mimetype": "text/x-python",
   "name": "python",
   "nbconvert_exporter": "python",
   "pygments_lexer": "ipython3",
   "version": "3.7.6-final"
  },
  "orig_nbformat": 2,
  "kernelspec": {
   "name": "python3",
   "display_name": "Python 3"
  }
 },
 "nbformat": 4,
 "nbformat_minor": 2,
 "cells": [
  {
   "source": [
    "NASA Mars News"
   ],
   "cell_type": "markdown",
   "metadata": {}
  },
  {
   "cell_type": "code",
   "execution_count": 13,
   "metadata": {},
   "outputs": [],
   "source": [
    "# Import dependencies\n",
    "from bs4 import BeautifulSoup as bs\n",
    "import requests\n",
    "import pymongo\n",
    "from splinter import Browser"
   ]
  },
  {
   "cell_type": "code",
   "execution_count": 14,
   "metadata": {},
   "outputs": [],
   "source": [
    "executable_path = {'executable_path': 'chromedriver.exe'}\n",
    "browser = Browser('chrome', **executable_path, headless=False)"
   ]
  },
  {
   "cell_type": "code",
   "execution_count": 15,
   "metadata": {},
   "outputs": [],
   "source": [
    "nasa_url = 'https://mars.nasa.gov/news/?page=0&per_page=40&order=publish_date+desc%2Ccreated_at+desc&search=&category=19%2C165%2C184%2C204&blank_scope=Latest'\n",
    "browser.visit(nasa_url)"
   ]
  },
  {
   "cell_type": "code",
   "execution_count": 16,
   "metadata": {
    "tags": []
   },
   "outputs": [
    {
     "output_type": "stream",
     "name": "stdout",
     "text": "-----------\nNASA's New Mars Rover Will Use X-Rays to Hunt Fossils\n-----------\nMy Culture, My Voice\n-----------\nNASA Readies Perseverance Mars Rover's Earthly Twin \n-----------\nNASA Engineers Checking InSight's Weather Sensors\n-----------\nFollow NASA's Perseverance Rover in Real Time on Its Way to Mars\n-----------\nNASA Establishes Board to Initially Review Mars Sample Return Plans\n-----------\nNASA's Ingenuity Mars Helicopter Recharges Its Batteries in Flight\n-----------\nCelebrate Mars Reconnaissance Orbiter's Views From Above\n-----------\nNASA's MAVEN Observes Martian Night Sky Pulsing in Ultraviolet Light\n-----------\n8 Martian Postcards to Celebrate Curiosity's Landing Anniversary\n-----------\nNASA, ULA Launch Mars 2020 Perseverance Rover Mission to Red Planet\n-----------\nNASA's Perseverance Rover Will Carry First Spacesuit Materials to Mars\n-----------\nA New Video Captures the Science of NASA's Perseverance Mars Rover\n-----------\nNASA Invites Public to Share Excitement of Mars 2020 Perseverance Rover Launch\n-----------\nNASA's Mars Perseverance Rover Passes Flight Readiness Review\n-----------\nNASA to Broadcast Mars 2020 Perseverance Launch, Prelaunch Activities\n-----------\n6 Things to Know About NASA's Ingenuity Mars Helicopter\n-----------\nJoin NASA for the Launch of the Mars 2020 Perseverance Rover\n-----------\nNASA's Perseverance Rover Attached to Atlas V Rocket\n-----------\n7 Things to Know About the Mars 2020 Perseverance Rover Mission\n-----------\nNASA's InSight Flexes Its Arm While Its 'Mole' Hits Pause\n-----------\nCuriosity Mars Rover's Summer Road Trip Has Begun\n-----------\nHow NASA's Mars Helicopter Will Reach the Red Planet's Surface\n-----------\nThe Launch Is Approaching for NASA's Next Mars Rover, Perseverance\n-----------\nNASA to Hold Mars 2020 Perseverance Rover Launch Briefing\n-----------\nWhile Stargazing on Mars, NASA's Curiosity Rover Spots Earth and Venus\n-----------\nNASA's Mars Rover Drivers Need Your Help\n-----------\nThree New Views of Mars' Moon Phobos\n-----------\nThe Extraordinary Sample-Gathering System of NASA's Perseverance Mars Rover\n-----------\nThe Detective Aboard NASA's Perseverance Rover\n-----------\nMAVEN Maps Electric Currents around Mars that are Fundamental to Atmospheric Loss\n-----------\nAir Deliveries Bring NASA's Perseverance Mars Rover Closer to Launch\n-----------\nNASA Wins 4 Webbys, 4 People's Voice Awards\n-----------\nNASA's Perseverance Rover Goes Through Trials by Fire, Ice, Light and Sound\n-----------\nNASA's Perseverance Rover Mission Getting in Shape for Launch\n-----------\nNASA Perseverance Mars Rover Scientists Train in the Nevada Desert\n-----------\nNASA's Perseverance Rover Will Look at Mars Through These 'Eyes'\n-----------\nMeet the People Behind NASA's Perseverance Rover\n-----------\nQ&A with the Student Who Named Ingenuity, NASA's Mars Helicopter\n-----------\nAlabama High School Student Names NASA's Mars Helicopter\nScraping Complete\n"
    }
   ],
   "source": [
    "# Iterate through\n",
    "# HTML object\n",
    "html = browser.html\n",
    "# Parse HTML with Beautiful Soup\n",
    "soup = bs(html, 'html.parser')\n",
    "# Retrieve all elements that contain news information\n",
    "articles = soup.find_all('div', class_='list_text')\n",
    "\n",
    "# Grab all titles and print them\n",
    "for article in articles:\n",
    "    # Use Beautiful Soup's find() method to navigate and retrieve attributes\n",
    "    title = article.find('div', class_='content_title').text\n",
    "    print('-----------')\n",
    "    print(title)\n",
    "\n",
    "# Click the 'More' button on each page\n",
    "try:\n",
    "    browser.click_link_by_partial_text('More')\n",
    "        \n",
    "except:\n",
    "    print(\"Scraping Complete\")"
   ]
  },
  {
   "cell_type": "code",
   "execution_count": 17,
   "metadata": {},
   "outputs": [],
   "source": [
    "# Save the latest title to a variable\n",
    "latest_title = title[0]"
   ]
  },
  {
   "cell_type": "code",
   "execution_count": 18,
   "metadata": {
    "tags": []
   },
   "outputs": [
    {
     "output_type": "stream",
     "name": "stdout",
     "text": "-----------\nPIXL, an instrument on the end of the Perseverance rover's arm, will search for chemical fingerprints left by ancient microbes.\n-----------\nIn honor of Hispanic Heritage Month, Christina Hernandez, an instrument engineer on the Mars 2020 mission, talks about her childhood and journey to NASA.\n-----------\nDid you know NASA's next Mars rover has a nearly identical sibling on Earth for testing? Even better, it's about to roll for the first time through a replica Martian landscape.\n-----------\nAn electronics issue is suspected to be preventing the sensors from sharing their data about Mars weather with the spacecraft.\n-----------\nA crisply rendered web application can show you where the agency's Mars 2020 mission is right now as it makes its way to the Red Planet for a Feb. 18, 2021, landing.\n-----------\nThe board will assist with analysis of current plans and goals for one of the most difficult missions humanity has ever undertaken.\n-----------\nHeaded to the Red Planet with the Perseverance rover, the pioneering helicopter is powered up for the first time in interplanetary space as part of a systems check.\n-----------\nMarking its 15th anniversary since launch, one of the oldest spacecraft at the Red Planet has provided glimpses of dust devils, avalanches, and more.\n-----------\nVast areas of the Martian night sky pulse in ultraviolet light, according to images from NASA’s MAVEN spacecraft. The results are being used to illuminate complex circulation patterns in the Martian atmosphere.\n-----------\nThe NASA rover touched down eight years ago, on Aug. 5, 2012, and will soon be joined by a second rover, Perseverance.\n-----------\nThe agency's Mars 2020 mission is on its way. It will land at Jezero Crater in about seven months, on Feb. 18, 2021. \n-----------\nIn a Q&A, spacesuit designer Amy Ross explains how five samples, including a piece of helmet visor, will be tested aboard the rover, which is targeting a July 30 launch. \n-----------\nWith a targeted launch date of July 30, the next robotic scientist NASA is sending to the to the Red Planet has big ambitions.\n-----------\nThere are lots of ways to participate in the historic event, which is targeted for July 30.\n-----------\n​The agency's Mars 2020 mission has one more big prelaunch review – the Launch Readiness Review, on July 27.\n-----------\nStarting July 27, news activities will cover everything from mission engineering and science to returning samples from Mars to, of course, the launch itself.\n-----------\nThe first helicopter attempting to fly on another planet is a marvel of engineering. Get up to speed with these key facts about its plans.\n-----------\nNo matter where you live, choose from a menu of activities to join NASA as we \"Countdown to Mars\" and launch the Perseverance rover to the Red Planet.\n-----------\nReady for its launch later in the month, the Mars-bound rover will touch terra firma no more.\n-----------\nNASA's next rover to the Red Planet is slated to launch no earlier than July 30. These highlights will get you up to speed on the ambitious mission.\n-----------\nNow that the lander's robotic arm has helped the mole get underground, it will resume science activities that have been on hold.\n-----------\nAfter more than a year in the \"clay-bearing unit,\" Curiosity is making a mile-long journey around some deep sand so that it can explore higher up Mount Sharp.\n-----------\nThe small craft will seek to prove that powered, controlled flight is possible on another planet. But just getting it onto the surface of Mars will take a whole lot of ingenuity.\n-----------\nThe Red Planet's surface has been visited by eight NASA spacecraft. The ninth will be the first that includes a roundtrip ticket in its flight plan. \n-----------\nLearn more about the agency's next Red Planet mission during a live event on June 17.\n-----------\nThis new portrait of the Red Planet's neighbors was taken during a time when there's more dust in the air on Mars.\n-----------\nUsing an online tool to label Martian terrain types, you can train an artificial intelligence algorithm that could improve the way engineers guide the Curiosity rover.\n-----------\nTaken with the infrared camera aboard NASA's Odyssey orbiter, they reveal temperature variations on the small moon as it drifts into and out of Mars’ shadow.\n-----------\nTwo astronauts collected Moon rocks on Apollo 11. It will take three robotic systems working together to gather up the first Mars rock samples for return to Earth.\n-----------\nAn instrument called SHERLOC will, with the help of its partner WATSON, hunt for signs of ancient life by detecting organic molecules and minerals.\n-----------\nFive years after NASA’s MAVEN spacecraft entered into orbit around Mars, data from the mission has led to the creation of a map of electric current systems in the Martian atmosphere.\n-----------\nA NASA Wallops Flight Facility cargo plane transported more than two tons of equipment — including the rover's sample collection tubes — to Florida for this summer's liftoff.\n-----------\nWinners include the JPL-managed \"Send Your Name to Mars\" campaign, NASA's Global Climate Change website and Solar System Interactive.\n-----------\nThe agency's new Mars rover is put through a series of tests in vacuum chambers, acoustic chambers and more to get ready for the Red Planet.\n-----------\nStacking spacecraft components on top of each other is one of the final assembly steps before a mission launches to the Red Planet. \n-----------\nTeam members searched for signs of ancient microscopic life there, just as NASA's latest rover will on the Red Planet next year.\n-----------\nA pair of zoomable cameras will help scientists and rover drivers with high-resolution color images.\n-----------\nThese are the scientists and engineers who built NASA's next Mars rover and who will guide it to a safe landing in Jezero Crater. \n-----------\nAs a longtime fan of space exploration, Vaneeza Rupani appreciates the creativity and collaboration involved with trying to fly on another planet.\n-----------\nVaneeza Rupani's essay was chosen as the name for the small spacecraft, which will mark NASA's first attempt at powered flight on another planet.\nScraping Complete\n"
    }
   ],
   "source": [
    "# Grab all paragraphs and print them\n",
    "for article in articles:\n",
    "    # Use Beautiful Soup's find() method to navigate and retrieve attributes\n",
    "    paragraph = article.find('div', class_= 'article_teaser_body').text\n",
    "    print('-----------')\n",
    "    print(paragraph)\n",
    "\n",
    "# Click the 'More' button on each page\n",
    "try:\n",
    "    browser.click_link_by_partial_text('More')\n",
    "        \n",
    "except:\n",
    "    print(\"Scraping Complete\")"
   ]
  },
  {
   "cell_type": "code",
   "execution_count": 19,
   "metadata": {},
   "outputs": [],
   "source": [
    "# Save the latest paragraph to a variable\n",
    "latest_para = paragraph[0]\n",
    "browser.quit()"
   ]
  },
  {
   "source": [
    "JPL Mars Space Images - Featured Image"
   ],
   "cell_type": "markdown",
   "metadata": {}
  },
  {
   "cell_type": "code",
   "execution_count": 20,
   "metadata": {},
   "outputs": [],
   "source": [
    "executable_path = {'executable_path': 'chromedriver.exe'}\n",
    "browser = Browser('chrome', **executable_path, headless=False)"
   ]
  },
  {
   "cell_type": "code",
   "execution_count": 21,
   "metadata": {},
   "outputs": [],
   "source": [
    "fullimage_url = 'https://www.jpl.nasa.gov/spaceimages/?search=&category=Mars'\n",
    "browser.visit(fullimage_url)"
   ]
  },
  {
   "cell_type": "code",
   "execution_count": 22,
   "metadata": {
    "tags": []
   },
   "outputs": [
    {
     "output_type": "stream",
     "name": "stdout",
     "text": "The full image can be found here: {'link': 'https://www.jpl.nasa.gov/spaceimages/images/largesize/PIA16815_hires.jpg'}\n"
    }
   ],
   "source": [
    "# HTML object\n",
    "html = browser.html\n",
    "# Parse HTML with Beautiful Soup\n",
    "soup = bs(html, 'html.parser')\n",
    "# Click full image button followed by the more info button\n",
    "full_image = browser.find_by_id('full_image')\n",
    "full_image.click()\n",
    "\n",
    "more_info = browser.find_link_by_partial_text('more info')\n",
    "more_info.click()\n",
    "\n",
    "featured_image=browser.links.find_by_partial_href('/spaceimages/image')\n",
    "featured_image.click()\n",
    "\n",
    "featured_link=browser.find_by_tag('img')['src']\n",
    "dict_={}\n",
    "list_=[]\n",
    "dict_['link']= featured_link\n",
    "list_.append(dict_)\n",
    "\n",
    "list_[0]\n",
    "\n",
    "print(f'The full image can be found here: {list_[0]}')\n",
    "browser.quit()"
   ]
  },
  {
   "source": [
    "Mars Facts"
   ],
   "cell_type": "markdown",
   "metadata": {}
  },
  {
   "cell_type": "code",
   "execution_count": 23,
   "metadata": {},
   "outputs": [],
   "source": [
    "# Import dependecies\n",
    "import pandas as pd"
   ]
  },
  {
   "cell_type": "code",
   "execution_count": 24,
   "metadata": {},
   "outputs": [
    {
     "output_type": "execute_result",
     "data": {
      "text/plain": "                      0                              1\n0  Equatorial Diameter:                       6,792 km\n1       Polar Diameter:                       6,752 km\n2                 Mass:  6.39 × 10^23 kg (0.11 Earths)\n3                Moons:            2 (Phobos & Deimos)\n4       Orbit Distance:       227,943,824 km (1.38 AU)\n5         Orbit Period:           687 days (1.9 years)\n6  Surface Temperature:                   -87 to -5 °C\n7         First Record:              2nd millennium BC\n8          Recorded By:           Egyptian astronomers",
      "text/html": "<div>\n<style scoped>\n    .dataframe tbody tr th:only-of-type {\n        vertical-align: middle;\n    }\n\n    .dataframe tbody tr th {\n        vertical-align: top;\n    }\n\n    .dataframe thead th {\n        text-align: right;\n    }\n</style>\n<table border=\"1\" class=\"dataframe\">\n  <thead>\n    <tr style=\"text-align: right;\">\n      <th></th>\n      <th>0</th>\n      <th>1</th>\n    </tr>\n  </thead>\n  <tbody>\n    <tr>\n      <th>0</th>\n      <td>Equatorial Diameter:</td>\n      <td>6,792 km</td>\n    </tr>\n    <tr>\n      <th>1</th>\n      <td>Polar Diameter:</td>\n      <td>6,752 km</td>\n    </tr>\n    <tr>\n      <th>2</th>\n      <td>Mass:</td>\n      <td>6.39 × 10^23 kg (0.11 Earths)</td>\n    </tr>\n    <tr>\n      <th>3</th>\n      <td>Moons:</td>\n      <td>2 (Phobos &amp; Deimos)</td>\n    </tr>\n    <tr>\n      <th>4</th>\n      <td>Orbit Distance:</td>\n      <td>227,943,824 km (1.38 AU)</td>\n    </tr>\n    <tr>\n      <th>5</th>\n      <td>Orbit Period:</td>\n      <td>687 days (1.9 years)</td>\n    </tr>\n    <tr>\n      <th>6</th>\n      <td>Surface Temperature:</td>\n      <td>-87 to -5 °C</td>\n    </tr>\n    <tr>\n      <th>7</th>\n      <td>First Record:</td>\n      <td>2nd millennium BC</td>\n    </tr>\n    <tr>\n      <th>8</th>\n      <td>Recorded By:</td>\n      <td>Egyptian astronomers</td>\n    </tr>\n  </tbody>\n</table>\n</div>"
     },
     "metadata": {},
     "execution_count": 24
    }
   ],
   "source": [
    "# Go to Mars Facts URL\n",
    "marsfacts_url = 'https://space-facts.com/mars/'\n",
    "\n",
    "# Read fact table on page, put info into dataframe, and convert data frame into html\n",
    "fact_tables = pd.read_html(marsfacts_url)\n",
    "facts_df = pd.DataFrame(fact_tables[0])\n",
    "\n",
    "facts_df"
   ]
  },
  {
   "cell_type": "code",
   "execution_count": 25,
   "metadata": {},
   "outputs": [
    {
     "output_type": "execute_result",
     "data": {
      "text/plain": "'<table border=\"1\" class=\"dataframe\">\\n  <thead>\\n    <tr style=\"text-align: right;\">\\n      <th></th>\\n      <th>0</th>\\n      <th>1</th>\\n    </tr>\\n  </thead>\\n  <tbody>\\n    <tr>\\n      <th>0</th>\\n      <td>Equatorial Diameter:</td>\\n      <td>6,792 km</td>\\n    </tr>\\n    <tr>\\n      <th>1</th>\\n      <td>Polar Diameter:</td>\\n      <td>6,752 km</td>\\n    </tr>\\n    <tr>\\n      <th>2</th>\\n      <td>Mass:</td>\\n      <td>6.39 × 10^23 kg (0.11 Earths)</td>\\n    </tr>\\n    <tr>\\n      <th>3</th>\\n      <td>Moons:</td>\\n      <td>2 (Phobos &amp; Deimos)</td>\\n    </tr>\\n    <tr>\\n      <th>4</th>\\n      <td>Orbit Distance:</td>\\n      <td>227,943,824 km (1.38 AU)</td>\\n    </tr>\\n    <tr>\\n      <th>5</th>\\n      <td>Orbit Period:</td>\\n      <td>687 days (1.9 years)</td>\\n    </tr>\\n    <tr>\\n      <th>6</th>\\n      <td>Surface Temperature:</td>\\n      <td>-87 to -5 °C</td>\\n    </tr>\\n    <tr>\\n      <th>7</th>\\n      <td>First Record:</td>\\n      <td>2nd millennium BC</td>\\n    </tr>\\n    <tr>\\n      <th>8</th>\\n      <td>Recorded By:</td>\\n      <td>Egyptian astronomers</td>\\n    </tr>\\n  </tbody>\\n</table>'"
     },
     "metadata": {},
     "execution_count": 25
    }
   ],
   "source": [
    "facts_html = facts_df.to_html()\n",
    "facts_html"
   ]
  },
  {
   "cell_type": "code",
   "execution_count": 26,
   "metadata": {},
   "outputs": [],
   "source": [
    "browser.quit()"
   ]
  },
  {
   "source": [
    "Mars Hemispheres"
   ],
   "cell_type": "markdown",
   "metadata": {}
  },
  {
   "cell_type": "code",
   "execution_count": 41,
   "metadata": {},
   "outputs": [],
   "source": [
    "# Import dependencies\n",
    "import time"
   ]
  },
  {
   "cell_type": "code",
   "execution_count": 43,
   "metadata": {},
   "outputs": [],
   "source": [
    "executable_path = {'executable_path': 'chromedriver.exe'}\n",
    "browser = Browser('chrome', **executable_path, headless=False)"
   ]
  },
  {
   "cell_type": "code",
   "execution_count": 75,
   "metadata": {},
   "outputs": [],
   "source": [
    "hemis_url = 'https://astrogeology.usgs.gov/search/results?q=hemisphere+enhanced&k1=target&v1=Mars'\n",
    "browser.visit(hemis_url)\n",
    "time.sleep(1)\n",
    "\n",
    "hemis_url_string = 'https://astrogeology.usgs.gov/'\n",
    "\n",
    "html=browser.html\n",
    "soup=bs(browser.html)\n",
    "hemis = soup.find_all('div', class_='item')\n",
    "for each_hemis in hemis:\n",
    "    links[each_hemis.find('a').find('div', class_='description')].find('a')=each_hemis.find('a').get('href')\n",
    "for each_hemis in links:\n",
    "    browser.visit(links[each_hemis])\n",
    "    soup=bs(browser.html)\n",
    "    link=new_soup.find(class_='downloads').find('ul').find\n",
    "    hemis_image_urls['title']=each_hemis"
   ]
  },
  {
   "cell_type": "code",
   "execution_count": 61,
   "metadata": {},
   "outputs": [],
   "source": [
    "browser.quit()"
   ]
  },
  {
   "cell_type": "code",
   "execution_count": null,
   "metadata": {},
   "outputs": [],
   "source": []
  }
 ]
}